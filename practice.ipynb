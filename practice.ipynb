{
  "nbformat": 4,
  "nbformat_minor": 0,
  "metadata": {
    "colab": {
      "provenance": [],
      "authorship_tag": "ABX9TyOymZgSOjJJahE+kGTjegof",
      "include_colab_link": true
    },
    "kernelspec": {
      "name": "python3",
      "display_name": "Python 3"
    },
    "language_info": {
      "name": "python"
    }
  },
  "cells": [
    {
      "cell_type": "markdown",
      "metadata": {
        "id": "view-in-github",
        "colab_type": "text"
      },
      "source": [
        "<a href=\"https://colab.research.google.com/github/rkannaujia/data_science_rk/blob/main/practice.ipynb\" target=\"_parent\"><img src=\"https://colab.research.google.com/assets/colab-badge.svg\" alt=\"Open In Colab\"/></a>"
      ]
    },
    {
      "cell_type": "code",
      "execution_count": 2,
      "metadata": {
        "colab": {
          "base_uri": "https://localhost:8080/"
        },
        "id": "jh_O5WtxiX3F",
        "outputId": "8c71da63-cf36-4dfd-c3f3-0c4373241748"
      },
      "outputs": [
        {
          "output_type": "stream",
          "name": "stdout",
          "text": [
            "Om Gnapatye namah\n"
          ]
        }
      ],
      "source": [
        "print(\"Om Gnapatye namah\")"
      ]
    },
    {
      "cell_type": "markdown",
      "source": [
        "#Operator & Datatype"
      ],
      "metadata": {
        "id": "g8xu2E4Yu8uZ"
      }
    },
    {
      "cell_type": "code",
      "source": [
        "a=200;\n",
        "b=100;\n",
        "# addition (two operands with plus operator)\n",
        "print(\"addition=\",(a+b))\n",
        "# subtraction (two operands with minus operator)\n",
        "print(\"substraction=\",(a-b))\n",
        "# multiplication (two operands with * operator)\n",
        "print(\"multiplication=\",(a*b))\n",
        "# division (two operands with * operator)\n",
        "print(\"division=\",(a/b))\n",
        "x=25\n",
        "y=4\n",
        "# two operands with // operator\n",
        "print(\"quotient=\",(x//y))\n",
        "# two operands with % operator\n",
        "print(\"reminder=\",(x%y))\n"
      ],
      "metadata": {
        "colab": {
          "base_uri": "https://localhost:8080/"
        },
        "id": "dHAwu3evpnO7",
        "outputId": "b0111096-c800-41f9-9d21-b8f7484896fe"
      },
      "execution_count": 3,
      "outputs": [
        {
          "output_type": "stream",
          "name": "stdout",
          "text": [
            "addition= 300\n",
            "substraction= 100\n",
            "multiplication= 20000\n",
            "division= 2.0\n",
            "quotient= 6\n",
            "reminder= 1\n"
          ]
        }
      ]
    },
    {
      "cell_type": "code",
      "source": [
        "print(type(True))\n",
        "print(type(2.53535535623565353535))\n",
        "print(type(987654321))\n",
        "print(type(\"I am string\"))"
      ],
      "metadata": {
        "colab": {
          "base_uri": "https://localhost:8080/"
        },
        "id": "GT-dn-X_r-xS",
        "outputId": "4b87326c-4401-450b-a176-0985580ef5e2"
      },
      "execution_count": 4,
      "outputs": [
        {
          "output_type": "stream",
          "name": "stdout",
          "text": [
            "<class 'bool'>\n",
            "<class 'float'>\n",
            "<class 'int'>\n",
            "<class 'str'>\n"
          ]
        }
      ]
    },
    {
      "cell_type": "markdown",
      "source": [
        "##function"
      ],
      "metadata": {
        "id": "fGbXApA2vEdI"
      }
    },
    {
      "cell_type": "code",
      "source": [
        "upper_str=\"THIS IS UPPER CASE\"\n",
        "lower_str=\"this is lower case\"\n",
        "print(\"convert in lower=\",upper_str.lower())\n",
        "print(\"convert in upper=\",lower_str.upper())\n",
        "print(\"Title=\",upper_str.upper())\n",
        "print(\"I am a Data science and AI/ML Eng\".count('a'))\n",
        "print(\"I am a Data science and AI/ML Eng\".replace('AI/ML', \"Artificial intelegence & machine learning\"))\n",
        "'i am rahul'.find('am')"
      ],
      "metadata": {
        "colab": {
          "base_uri": "https://localhost:8080/"
        },
        "id": "-luKE8brvINW",
        "outputId": "71373a86-2933-44ca-88d1-d3bfc440fdb0"
      },
      "execution_count": 5,
      "outputs": [
        {
          "output_type": "stream",
          "name": "stdout",
          "text": [
            "convert in lower= this is upper case\n",
            "convert in upper= THIS IS LOWER CASE\n",
            "Title= THIS IS UPPER CASE\n",
            "5\n",
            "I am a Data science and Artificial intelegence & machine learning Eng\n"
          ]
        },
        {
          "output_type": "execute_result",
          "data": {
            "text/plain": [
              "2"
            ]
          },
          "metadata": {},
          "execution_count": 5
        }
      ]
    },
    {
      "cell_type": "code",
      "source": [
        "msg1=\"I'm learning data science\"\n",
        "msg2=\"& it's fun\"\n",
        "msg = msg1+' '+msg2\n",
        "print(msg)"
      ],
      "metadata": {
        "id": "0JqfABhVvvH2",
        "colab": {
          "base_uri": "https://localhost:8080/"
        },
        "outputId": "16b90471-c370-4c87-886a-5fbcc15242fb"
      },
      "execution_count": 6,
      "outputs": [
        {
          "output_type": "stream",
          "name": "stdout",
          "text": [
            "I'm learning data science & it's fun\n"
          ]
        }
      ]
    },
    {
      "cell_type": "code",
      "source": [
        "print(f'you can print varibale inside string like this:- {msg}')\n",
        "print(f'{msg1} {msg2}')"
      ],
      "metadata": {
        "colab": {
          "base_uri": "https://localhost:8080/"
        },
        "id": "AUUSVO0WUdOJ",
        "outputId": "391fa296-55ad-4f86-dc67-9f11716b94aa"
      },
      "execution_count": 7,
      "outputs": [
        {
          "output_type": "stream",
          "name": "stdout",
          "text": [
            "you can print varibale inside string like this:- I'm learning data science & it's fun\n",
            "I'm learning data science & it's fun\n"
          ]
        }
      ]
    },
    {
      "cell_type": "markdown",
      "source": [
        "List => Elements in squre bracket seprated by comma. List are mutable"
      ],
      "metadata": {
        "id": "qpGdV0X3VIyj"
      }
    },
    {
      "cell_type": "code",
      "source": [
        "contries = [\"INDIA\",\"US\",\"China\",\"Brazil\"]\n",
        "print(contries)\n",
        "print(contries[0])\n",
        "print(contries[1])\n",
        "print(contries[2])\n",
        "print(contries[3])\n",
        "print(\"negative indexing\",contries[-1])\n",
        "print(\"negative indexing\",contries[-4])"
      ],
      "metadata": {
        "colab": {
          "base_uri": "https://localhost:8080/"
        },
        "id": "7i8xXd-RVKI1",
        "outputId": "ef3ef868-a9f7-47d2-865f-984d7cac0828"
      },
      "execution_count": 8,
      "outputs": [
        {
          "output_type": "stream",
          "name": "stdout",
          "text": [
            "['INDIA', 'US', 'China', 'Brazil']\n",
            "INDIA\n",
            "US\n",
            "China\n",
            "Brazil\n",
            "negative indexing Brazil\n",
            "negative indexing INDIA\n"
          ]
        }
      ]
    },
    {
      "cell_type": "code",
      "source": [
        "#slicing list_name[start:stop]\n",
        "print(contries[0:2])\n",
        "print(contries[-3:-1])"
      ],
      "metadata": {
        "colab": {
          "base_uri": "https://localhost:8080/"
        },
        "id": "uJ9NEOMEVtSe",
        "outputId": "f5976985-f292-4cc4-c07d-d025c53dcde8"
      },
      "execution_count": 9,
      "outputs": [
        {
          "output_type": "stream",
          "name": "stdout",
          "text": [
            "['INDIA', 'US']\n",
            "['US', 'China']\n"
          ]
        }
      ]
    },
    {
      "cell_type": "code",
      "source": [
        "contries.append('Canada')\n",
        "print(contries)"
      ],
      "metadata": {
        "colab": {
          "base_uri": "https://localhost:8080/"
        },
        "id": "4OBkTTnQWE5B",
        "outputId": "20499f83-06ec-4ded-8919-c81e143e1fa1"
      },
      "execution_count": 10,
      "outputs": [
        {
          "output_type": "stream",
          "name": "stdout",
          "text": [
            "['INDIA', 'US', 'China', 'Brazil', 'Canada']\n"
          ]
        }
      ]
    },
    {
      "cell_type": "code",
      "source": [
        "contries.insert(2,'Japan')\n",
        "print(contries)"
      ],
      "metadata": {
        "colab": {
          "base_uri": "https://localhost:8080/"
        },
        "id": "j2BnfgpJxkJA",
        "outputId": "bf2e53e1-998a-43a2-9d74-fdab650c78e3"
      },
      "execution_count": 11,
      "outputs": [
        {
          "output_type": "stream",
          "name": "stdout",
          "text": [
            "['INDIA', 'US', 'Japan', 'China', 'Brazil', 'Canada']\n"
          ]
        }
      ]
    },
    {
      "cell_type": "code",
      "source": [
        "contries_2=[\"UK\",\"GERMANY\",\"Austria\"]\n",
        "contries+contries_2"
      ],
      "metadata": {
        "colab": {
          "base_uri": "https://localhost:8080/"
        },
        "id": "_T6VQAhQx6er",
        "outputId": "6c07cc42-1705-4f20-81b4-05f52042cd86"
      },
      "execution_count": 12,
      "outputs": [
        {
          "output_type": "execute_result",
          "data": {
            "text/plain": [
              "['INDIA',\n",
              " 'US',\n",
              " 'Japan',\n",
              " 'China',\n",
              " 'Brazil',\n",
              " 'Canada',\n",
              " 'UK',\n",
              " 'GERMANY',\n",
              " 'Austria']"
            ]
          },
          "metadata": {},
          "execution_count": 12
        }
      ]
    },
    {
      "cell_type": "code",
      "source": [
        "nested_listed=[contries,contries_2]\n",
        "print(nested_listed)"
      ],
      "metadata": {
        "colab": {
          "base_uri": "https://localhost:8080/"
        },
        "id": "GsZ2anQiypue",
        "outputId": "96388c04-9cad-4afe-b338-93eeb8a2f693"
      },
      "execution_count": 13,
      "outputs": [
        {
          "output_type": "stream",
          "name": "stdout",
          "text": [
            "[['INDIA', 'US', 'Japan', 'China', 'Brazil', 'Canada'], ['UK', 'GERMANY', 'Austria']]\n"
          ]
        }
      ]
    },
    {
      "cell_type": "code",
      "source": [
        "#remove by element name\n",
        "contries.remove(\"China\")\n",
        "contries"
      ],
      "metadata": {
        "colab": {
          "base_uri": "https://localhost:8080/"
        },
        "id": "u1xnykh2y1bl",
        "outputId": "338a870f-012c-4dc8-8a38-55d63cd9947e"
      },
      "execution_count": 17,
      "outputs": [
        {
          "output_type": "execute_result",
          "data": {
            "text/plain": [
              "['INDIA', 'US', 'Japan']"
            ]
          },
          "metadata": {},
          "execution_count": 17
        }
      ]
    },
    {
      "cell_type": "code",
      "source": [
        "#remove by index\n",
        "contries.pop(-1)"
      ],
      "metadata": {
        "colab": {
          "base_uri": "https://localhost:8080/",
          "height": 35
        },
        "id": "TmvzA_LazHY1",
        "outputId": "d89cdd90-f3e6-44ae-c3bc-67eb6e51fdde"
      },
      "execution_count": 18,
      "outputs": [
        {
          "output_type": "execute_result",
          "data": {
            "text/plain": [
              "'Japan'"
            ],
            "application/vnd.google.colaboratory.intrinsic+json": {
              "type": "string"
            }
          },
          "metadata": {},
          "execution_count": 18
        }
      ]
    },
    {
      "cell_type": "markdown",
      "source": [
        "sorting a list"
      ],
      "metadata": {
        "id": "ShRgQg2b1cMo"
      }
    },
    {
      "cell_type": "code",
      "source": [
        "numbers=[8,3,5,2,3,7,5,8]\n",
        "numbers.sort()\n",
        "print(numbers)\n",
        "numbers.sort(reverse=True)\n",
        "print(numbers)"
      ],
      "metadata": {
        "colab": {
          "base_uri": "https://localhost:8080/"
        },
        "id": "SNa9kaGPzli-",
        "outputId": "76fc31dc-7ba1-46a4-96ac-d25b51a9d32d"
      },
      "execution_count": 22,
      "outputs": [
        {
          "output_type": "stream",
          "name": "stdout",
          "text": [
            "[2, 3, 3, 5, 5, 7, 8, 8]\n",
            "[8, 8, 7, 5, 5, 3, 3, 2]\n"
          ]
        }
      ]
    },
    {
      "cell_type": "markdown",
      "source": [
        "updating an element"
      ],
      "metadata": {
        "id": "X-sqO1ht1h58"
      }
    },
    {
      "cell_type": "code",
      "source": [
        "for i in range(len(numbers)):\n",
        "  numbers[i]=numbers[i]*2\n",
        "print(numbers)\n"
      ],
      "metadata": {
        "colab": {
          "base_uri": "https://localhost:8080/"
        },
        "id": "Uzt6M6_J0xyG",
        "outputId": "61e9522a-4a02-4d8d-d7f8-2a86dcff4178"
      },
      "execution_count": 25,
      "outputs": [
        {
          "output_type": "stream",
          "name": "stdout",
          "text": [
            "[16, 16, 14, 10, 10, 6, 6, 4]\n"
          ]
        }
      ]
    },
    {
      "cell_type": "markdown",
      "source": [
        "copying a list"
      ],
      "metadata": {
        "id": "gt8eSvnY3Qsh"
      }
    },
    {
      "cell_type": "code",
      "source": [
        "contries = [\"INDIA\",\"US\",\"China\",\"Brazil\",\"Switzerland\",\"Germany\"]\n",
        "countries_copy_1=contries[:] # method one for copy\n",
        "countries_copy_2=contries.copy() # method two for copy\n",
        "print(f'method1 {countries_copy_1} & method2 {countries_copy_2}')"
      ],
      "metadata": {
        "colab": {
          "base_uri": "https://localhost:8080/"
        },
        "id": "38_d513X2NqR",
        "outputId": "15ad209f-063d-4ff8-b31c-b25aadfe7229"
      },
      "execution_count": 27,
      "outputs": [
        {
          "output_type": "stream",
          "name": "stdout",
          "text": [
            "method1 ['INDIA', 'US', 'China', 'Brazil', 'Switzerland', 'Germany'] & method2 ['INDIA', 'US', 'China', 'Brazil', 'Switzerland', 'Germany']\n"
          ]
        }
      ]
    },
    {
      "cell_type": "markdown",
      "source": [
        "Dictionary:- an unordered collection of items in key value pair"
      ],
      "metadata": {
        "id": "vpBMmlCS4eui"
      }
    },
    {
      "cell_type": "code",
      "source": [
        "my_dict={'key1':'value1','key2':'value2'}\n",
        "my_data={'name':'rahul','age':29}\n",
        "print(my_data)\n",
        "print(my_data.keys())\n",
        "print(my_data.values())\n",
        "print(my_data.items())"
      ],
      "metadata": {
        "colab": {
          "base_uri": "https://localhost:8080/"
        },
        "id": "fPQjrRUe32Yk",
        "outputId": "1ef053e1-d64c-4654-c789-3c62841cd781"
      },
      "execution_count": 32,
      "outputs": [
        {
          "output_type": "stream",
          "name": "stdout",
          "text": [
            "{'name': 'rahul', 'age': 29}\n",
            "dict_keys(['name', 'age'])\n",
            "dict_values(['rahul', 29])\n",
            "dict_items([('name', 'rahul'), ('age', 29)])\n"
          ]
        }
      ]
    },
    {
      "cell_type": "code",
      "source": [
        "my_data['height']=180\n",
        "for key,value in my_data.items():\n",
        "  if(key=='height'):\n",
        "    value=value+0.10\n",
        "    print(f'my height is {value}')\n",
        "my_data.update({'name':'rahul kannaujia'})\n",
        "print(my_data)"
      ],
      "metadata": {
        "colab": {
          "base_uri": "https://localhost:8080/"
        },
        "id": "b6lWd_M8-WVd",
        "outputId": "643423e4-81fd-40a6-e299-df27cf0ffa54"
      },
      "execution_count": 41,
      "outputs": [
        {
          "output_type": "stream",
          "name": "stdout",
          "text": [
            "my height is 180.1\n",
            "{'name': 'rahul kannaujia', 'age': 29, 'height': 180}\n"
          ]
        }
      ]
    },
    {
      "cell_type": "markdown",
      "source": [
        "remove element from dict"
      ],
      "metadata": {
        "id": "tPRXmReTF9vq"
      }
    },
    {
      "cell_type": "code",
      "source": [
        "my_data.pop('name')\n",
        "print(my_data)\n"
      ],
      "metadata": {
        "colab": {
          "base_uri": "https://localhost:8080/"
        },
        "id": "f16qpzwV_Tao",
        "outputId": "27d20aa6-fbb9-4d5b-e444-8397983a23ab"
      },
      "execution_count": 42,
      "outputs": [
        {
          "output_type": "stream",
          "name": "stdout",
          "text": [
            "{'age': 29, 'height': 180}\n"
          ]
        }
      ]
    },
    {
      "cell_type": "code",
      "source": [
        "age = 19\n",
        "if(age<18 or age >120):\n",
        "  print(\"you are not eligible\")\n",
        "elif(age>=18):\n",
        "  print(\"you are eligible\")\n",
        "else:\n",
        "  print(\"you are not eligible\")"
      ],
      "metadata": {
        "colab": {
          "base_uri": "https://localhost:8080/"
        },
        "id": "BUyip2DiGKyC",
        "outputId": "c0362eb3-219c-4f76-adb6-a8665e1c0e10"
      },
      "execution_count": 48,
      "outputs": [
        {
          "output_type": "stream",
          "name": "stdout",
          "text": [
            "you are eligible\n"
          ]
        }
      ]
    },
    {
      "cell_type": "code",
      "source": [
        "def sum(num):\n",
        "  sum=0\n",
        "  for i in range(num+1):\n",
        "    sum=sum+i\n",
        "  return sum\n",
        "print(sum(10))\n"
      ],
      "metadata": {
        "colab": {
          "base_uri": "https://localhost:8080/"
        },
        "id": "ac2m18VtHKK-",
        "outputId": "e8ae5384-99f6-4798-f309-ff6cca52e5ab"
      },
      "execution_count": 52,
      "outputs": [
        {
          "output_type": "stream",
          "name": "stdout",
          "text": [
            "55\n"
          ]
        }
      ]
    },
    {
      "cell_type": "code",
      "source": [
        "import os\n",
        "print(os.getcwd())"
      ],
      "metadata": {
        "colab": {
          "base_uri": "https://localhost:8080/"
        },
        "id": "IWWhkfQ7M38D",
        "outputId": "293e8eca-990b-45eb-c763-3787c4204630"
      },
      "execution_count": 53,
      "outputs": [
        {
          "output_type": "stream",
          "name": "stdout",
          "text": [
            "/content\n"
          ]
        }
      ]
    },
    {
      "cell_type": "code",
      "source": [
        "print(os.listdir())"
      ],
      "metadata": {
        "colab": {
          "base_uri": "https://localhost:8080/"
        },
        "id": "DkBBFl-vOb1V",
        "outputId": "5ff9ad99-66e9-4bc2-c5e7-6d21e032059c"
      },
      "execution_count": 54,
      "outputs": [
        {
          "output_type": "stream",
          "name": "stdout",
          "text": [
            "['.config', 'sample_data']\n"
          ]
        }
      ]
    },
    {
      "cell_type": "code",
      "source": [],
      "metadata": {
        "id": "bJeDwV6uOl-F"
      },
      "execution_count": null,
      "outputs": []
    }
  ]
}